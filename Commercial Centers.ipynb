{
 "cells": [
  {
   "cell_type": "code",
   "execution_count": 47,
   "metadata": {},
   "outputs": [],
   "source": [
    "import overpy\n",
    "import numpy as np\n",
    "import matplotlib.pyplot as plt\n",
    "from sklearn.cluster import KMeans\n",
    "api = overpy.Overpass()"
   ]
  },
  {
   "cell_type": "markdown",
   "metadata": {},
   "source": [
    "## Objectives \n",
    "1. Get Points of Interest from open data sources like open street map (OSM).  \n",
    "        whats a POI in OSM: https://wiki.openstreetmap.org/wiki/Points_of_interest\n",
    "        What POIs make up a commercial center?\n",
    "        Query for these POIs\n",
    "        \n",
    "2. Understand how spatial location data works\n",
    "        https://www.esri.com/library/whitepapers/pdfs/shapefile.pdf\n",
    "        \n",
    "3. Understand spatial vector data types and how to manipulate it using your language of choice.  \n",
    "4. Understand necessary GIS concepts like projections, spatial clustering, etc.  \n",
    "5. Figure out a way of clustering these points into commercial centres/markets.  \n",
    "6. Visualize the regions of interest  \n",
    "\n",
    "\n"
   ]
  },
  {
   "cell_type": "markdown",
   "metadata": {},
   "source": [
    "## What is a commercial center?\n",
    "Restaurants  \n",
    "Bar  \n",
    "Pub\n",
    "Cafes\n",
    "ATM/BANK  \n",
    "\n",
    "\n",
    "\n",
    "Corporate Commercial Offices\n",
    "\n",
    "\n",
    "Trees \n",
    "traffic lights\n",
    "night time lighting\n",
    "\n",
    "\n"
   ]
  },
  {
   "cell_type": "code",
   "execution_count": 53,
   "metadata": {},
   "outputs": [],
   "source": [
    "# rel[name=Pittsburgh]\n",
    "#    [admin_level=8]\n",
    "#    [boundary=administrative];\n",
    "# out geom;\n",
    "# <bounds minlat=\"40.3615200\" minlon=\"-80.0955170\" maxlat=\"40.5012021\" maxlon=\"-79.8657280\"/>\n",
    "querystr = \"\"\"[timeout:25][bbox:40.3615200,-80.0955170,40.5012021,-79.8657280];\n",
    "( node[\"amenity\"=\"restaurant\"];\n",
    "  way[\"amenity\"=\"restaurant\"];\n",
    "  relation[\"amenity\"=\"restaurant\"]; \n",
    "  \n",
    "  node[\"amenity\"=\"bar\"];\n",
    "  way[\"amenity\"=\"bar\"];\n",
    "  relation[\"amenity\"=\"bar\"];\n",
    "  \n",
    "  node[\"amenity\"=\"pub\"];\n",
    "  way[\"amenity\"=\"pub\"];\n",
    "  relation[\"amenity\"=\"pub\"];\n",
    "  \n",
    ");\n",
    "out center;\"\"\""
   ]
  },
  {
   "cell_type": "code",
   "execution_count": 54,
   "metadata": {
    "scrolled": true
   },
   "outputs": [],
   "source": [
    "result = api.query(querystr)\n"
   ]
  },
  {
   "cell_type": "code",
   "execution_count": 63,
   "metadata": {},
   "outputs": [
    {
     "data": {
      "text/plain": [
       "['__class__',\n",
       " '__delattr__',\n",
       " '__dict__',\n",
       " '__dir__',\n",
       " '__doc__',\n",
       " '__eq__',\n",
       " '__format__',\n",
       " '__ge__',\n",
       " '__getattribute__',\n",
       " '__gt__',\n",
       " '__hash__',\n",
       " '__init__',\n",
       " '__init_subclass__',\n",
       " '__le__',\n",
       " '__lt__',\n",
       " '__module__',\n",
       " '__ne__',\n",
       " '__new__',\n",
       " '__reduce__',\n",
       " '__reduce_ex__',\n",
       " '__repr__',\n",
       " '__setattr__',\n",
       " '__sizeof__',\n",
       " '__str__',\n",
       " '__subclasshook__',\n",
       " '__weakref__',\n",
       " '_areas',\n",
       " '_class_collection_map',\n",
       " '_nodes',\n",
       " '_relations',\n",
       " '_ways',\n",
       " 'api',\n",
       " 'append',\n",
       " 'area_ids',\n",
       " 'areas',\n",
       " 'expand',\n",
       " 'from_json',\n",
       " 'from_xml',\n",
       " 'get_area',\n",
       " 'get_area_ids',\n",
       " 'get_areas',\n",
       " 'get_elements',\n",
       " 'get_ids',\n",
       " 'get_node',\n",
       " 'get_node_ids',\n",
       " 'get_nodes',\n",
       " 'get_relation',\n",
       " 'get_relation_ids',\n",
       " 'get_relations',\n",
       " 'get_way',\n",
       " 'get_way_ids',\n",
       " 'get_ways',\n",
       " 'node_ids',\n",
       " 'nodes',\n",
       " 'relation_ids',\n",
       " 'relations',\n",
       " 'way_ids',\n",
       " 'ways']"
      ]
     },
     "execution_count": 63,
     "metadata": {},
     "output_type": "execute_result"
    }
   ],
   "source": [
    "dir(result)"
   ]
  },
  {
   "cell_type": "code",
   "execution_count": 55,
   "metadata": {},
   "outputs": [
    {
     "data": {
      "text/plain": [
       "<overpy.Node id=4289337993 lat=40.5011068 lon=-80.0672439>"
      ]
     },
     "execution_count": 55,
     "metadata": {},
     "output_type": "execute_result"
    }
   ],
   "source": [
    "result.get_node(4289337993)"
   ]
  },
  {
   "cell_type": "code",
   "execution_count": 56,
   "metadata": {},
   "outputs": [],
   "source": [
    "pos_arr = np.asarray([[float(node.lat),float(node.lon)] for node in result.nodes])"
   ]
  },
  {
   "cell_type": "code",
   "execution_count": 61,
   "metadata": {},
   "outputs": [],
   "source": [
    "kmeans = KMeans(n_clusters=10, random_state=0).fit(pos_arr)"
   ]
  },
  {
   "cell_type": "code",
   "execution_count": 68,
   "metadata": {
    "scrolled": true
   },
   "outputs": [
    {
     "data": {
      "text/plain": [
       "<matplotlib.collections.PathCollection at 0x1a1a9abc18>"
      ]
     },
     "execution_count": 68,
     "metadata": {},
     "output_type": "execute_result"
    },
    {
     "data": {
      "image/png": "[encoded data removed]",
      "text/plain": [
       "<Figure size 432x288 with 1 Axes>"
      ]
     },
     "metadata": {
      "needs_background": "light"
     },
     "output_type": "display_data"
    }
   ],
   "source": [
    "# f = plt.figure(figsize=(12,5))\n",
    "# plt.xlim(-80.0955170,-79.8657280)\n",
    "# plt.ylim(40.3615200,40.5012021)\n",
    "plt.scatter(pos_arr[:,0],pos_arr[:,1])\n",
    "plt.scatter(kmeans.cluster_centers_[:,0],kmeans.cluster_centers_[:,1])\n",
    "# plt.axis('equal')"
   ]
  },
  {
   "cell_type": "code",
   "execution_count": 48,
   "metadata": {},
   "outputs": [],
   "source": []
  },
  {
   "cell_type": "code",
   "execution_count": null,
   "metadata": {},
   "outputs": [],
   "source": []
  }
 ],
 "metadata": {
  "kernelspec": {
   "display_name": "Python 3",
   "language": "python",
   "name": "python3"
  },
  "language_info": {
   "codemirror_mode": {
    "name": "ipython",
    "version": 3
   },
   "file_extension": ".py",
   "mimetype": "text/x-python",
   "name": "python",
   "nbconvert_exporter": "python",
   "pygments_lexer": "ipython3",
   "version": "3.7.2"
  }
 },
 "nbformat": 4,
 "nbformat_minor": 2
}
